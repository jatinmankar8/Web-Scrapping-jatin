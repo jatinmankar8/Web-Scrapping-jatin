{
 "cells": [
  {
   "cell_type": "code",
   "execution_count": 2,
   "id": "370364be",
   "metadata": {},
   "outputs": [],
   "source": [
    "import requests\n",
    "from bs4 import BeautifulSoup\n",
    "r = requests.get(\"http://www.pyclass.com/real-estate/rock-springs-wy/LCWYROCKSPRINGS/\", headers={'User-agent': 'Mozilla/5.0 (X11; Ubuntu; Linux x86_64; rv:61.0) Gecko/20100101 Firefox/61.0'})\n",
    "c = r.content\n",
    "soup = BeautifulSoup(c, \"html.parser\")\n",
    "a = soup.find_all(\"div\", {\"class\":\"propertyRow\"})\n",
    "page_no = soup.find_all(\"a\", {\"class\":\"Page\"})[-1].text"
   ]
  },
  {
   "cell_type": "code",
   "execution_count": 3,
   "id": "529bb0bc",
   "metadata": {},
   "outputs": [
    {
     "name": "stdout",
     "output_type": "stream",
     "text": [
      "http://pyclass.com/real-estate/rock-springs-wy/LCWYROCKSPRINGS/t=0&s=0.html\n",
      "http://pyclass.com/real-estate/rock-springs-wy/LCWYROCKSPRINGS/t=0&s=10.html\n",
      "http://pyclass.com/real-estate/rock-springs-wy/LCWYROCKSPRINGS/t=0&s=20.html\n"
     ]
    }
   ],
   "source": [
    "list1 = []\n",
    "base_url = \"http://pyclass.com/real-estate/rock-springs-wy/LCWYROCKSPRINGS/t=0&s=\"\n",
    "for page in range(0,int(page_no)*10,10):\n",
    "    url = base_url + str(page)+ \".html\"\n",
    "    print(url)\n",
    "    r = requests.get(url, headers={'User-agent': 'Mozilla/5.0 (X11; Ubuntu; Linux x86_64; rv:61.0) Gecko/20100101 Firefox/61.0'})\n",
    "    c = r.content\n",
    "    soup = BeautifulSoup(c, \"html.parser\")\n",
    "    a = soup.find_all(\"div\", {\"class\":\"propertyRow\"})\n",
    "    \n",
    "    for item in a:\n",
    "        d = {}\n",
    "        d[\"Plot Price\"] = item.find(\"h4\", {\"class\":\"propPrice\"}).text.replace(\"\\n\",\"\").replace(\" \",\"\")\n",
    "        d[\"Address\"] = item.find_all(\"span\", {\"class\":\"propAddressCollapse\"})[0].text\n",
    "        try:\n",
    "            d[\"Locality\"] = item.find_all(\"span\", {\"class\":\"propAddressCollapse\"})[1].text\n",
    "        except:\n",
    "            d[\"Locality\"] = \"None\"\n",
    "\n",
    "        try:\n",
    "            d[\"Bed Info\"] = item.find(\"span\", {\"class\":\"infoBed\"}).find(\"b\").text\n",
    "        except:\n",
    "            d[\"Bed Info\"] = \"NULL\"\n",
    "\n",
    "        try:\n",
    "            d[\"Area Info\"] = item.find(\"span\", {\"class\":\"infoSqFt\"}).find(\"b\").text\n",
    "        except:\n",
    "             d[\"Area Info\"] = \"NULL\"\n",
    "\n",
    "        try:\n",
    "            d[\"Full Bath\"] = item.find(\"span\", {\"class\":\"infoValueFullBath\"}).find(\"b\").text\n",
    "        except:\n",
    "             d[\"Full Bath\"] = \"NULL\"\n",
    "\n",
    "        try:\n",
    "            d[\"Half Bath\"] = item.find(\"span\", {\"class\":\"infoValueHalfBath\"}).find(\"b\").text\n",
    "        except:\n",
    "             d[\"Half Bath\"] = \"NULL\"\n",
    "\n",
    "\n",
    "        for column_group in item.find_all(\"div\",{\"class\":\"columnGroup\"}):\n",
    "            for feature_group, feature_name in zip(column_group.find_all(\"span\",{\"class\":\"featureGroup\"}), column_group.find_all(\"span\", {\"class\":\"featureName\"})):\n",
    "                if \"Lot Size\" in feature_group.text:\n",
    "                    d[\"Lot Size\"] = feature_name.text\n",
    "\n",
    "        list1.append(d)\n"
   ]
  },
  {
   "cell_type": "code",
   "execution_count": 5,
   "id": "1257e5aa",
   "metadata": {},
   "outputs": [],
   "source": [
    "import pandas\n",
    "data=pandas.DataFrame(list1)"
   ]
  },
  {
   "cell_type": "code",
   "execution_count": 7,
   "id": "8bd51a49",
   "metadata": {},
   "outputs": [],
   "source": [
    "df.to_csv('RealEstate.csv', index= False, encoding='utf-8')"
   ]
  }
 ],
 "metadata": {
  "kernelspec": {
   "display_name": "Python 3 (ipykernel)",
   "language": "python",
   "name": "python3"
  },
  "language_info": {
   "codemirror_mode": {
    "name": "ipython",
    "version": 3
   },
   "file_extension": ".py",
   "mimetype": "text/x-python",
   "name": "python",
   "nbconvert_exporter": "python",
   "pygments_lexer": "ipython3",
   "version": "3.9.6"
  }
 },
 "nbformat": 4,
 "nbformat_minor": 5
}
